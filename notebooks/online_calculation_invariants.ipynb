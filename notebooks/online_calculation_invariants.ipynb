{
 "cells": [
  {
   "cell_type": "markdown",
   "id": "361d2ef4",
   "metadata": {},
   "source": [
    "# Online estimation of curvature and torsion for a contour following task\n",
    "\n",
    "\n",
    "position data along contour -->  invariants module --> corresponding curvatures  --> model-based particle filter --> progress + filtered curvatures\n"
   ]
  },
  {
   "cell_type": "code",
   "execution_count": null,
   "id": "e1a22b02",
   "metadata": {},
   "outputs": [],
   "source": [
    "import numpy as np\n",
    "import read_and_write_data as rw\n",
    "from numpy import pi\n",
    "from numpy.linalg import inv\n",
    "from mpl_toolkits import mplot3d\n",
    "%matplotlib inline\n",
    "import matplotlib.pyplot as plt\n",
    "import read_and_write_data as rw\n",
    "import reparameterization as reparam\n",
    "import scipy.interpolate as ip\n",
    "from class_frenetserret_calculation import FrenetSerret_calc\n",
    "from mpl_toolkits.mplot3d import Axes3D\n"
   ]
  },
  {
   "cell_type": "markdown",
   "id": "05fce432",
   "metadata": {},
   "source": [
    "### Load example contour data and reparameterize to arclength\n"
   ]
  },
  {
   "cell_type": "code",
   "execution_count": null,
   "id": "7aaa65fe",
   "metadata": {
    "scrolled": true
   },
   "outputs": [],
   "source": [
    "data_location = '../data/sinus.txt'\n",
    "trajectory,time = rw.read_pose_trajectory_from_txt(data_location)\n",
    "pose,time_profile,arclength,nb_samples,stepsize = reparam.reparameterize_trajectory_arclength(trajectory)\n",
    "trajectory = pose[:,0:3,3]\n",
    "\n",
    "print(stepsize)"
   ]
  },
  {
   "cell_type": "code",
   "execution_count": null,
   "id": "84d5e750",
   "metadata": {},
   "outputs": [],
   "source": [
    "fig = plt.figure(figsize=(8,8))\n",
    "ax = fig.add_subplot(111, projection='3d')\n",
    "ax = plt.axes(projection='3d')\n",
    "ax.plot(trajectory[:,0],trajectory[:,1],trajectory[:,2],'.-')\n"
   ]
  },
  {
   "cell_type": "markdown",
   "id": "f02c2fac",
   "metadata": {},
   "source": [
    "### Calculate global curvature and torsion to later compare with"
   ]
  },
  {
   "cell_type": "code",
   "execution_count": null,
   "id": "b645a753",
   "metadata": {},
   "outputs": [],
   "source": [
    "# specify optimization problem symbolically\n",
    "FS_calculation_problem = FrenetSerret_calc(window_len=nb_samples, bool_unsigned_invariants = False, w_pos = 1, w_deriv = (10**-8)*np.array([10**4, 1.0, 1.0]), w_abs = (10**-5)*np.array([1.0, 1.0]))\n",
    "\n",
    "# calculate invariants given measurements\n",
    "invariants, calculate_trajectory, movingframes = FS_calculation_problem.calculate_invariants_global(trajectory,stepsize)\n"
   ]
  },
  {
   "cell_type": "markdown",
   "id": "daeb9875",
   "metadata": {},
   "source": [
    "Visualize calculated trajectory and invariants"
   ]
  },
  {
   "cell_type": "code",
   "execution_count": null,
   "id": "e9451f8c",
   "metadata": {},
   "outputs": [],
   "source": [
    "fig = plt.figure(figsize=(8,8))\n",
    "ax = fig.add_subplot(111, projection='3d')\n",
    "ax = plt.axes(projection='3d')\n",
    "ax.plot(trajectory[:,0],trajectory[:,1],trajectory[:,2],'.-')\n",
    "ax.plot(calculate_trajectory[:,0],calculate_trajectory[:,1],calculate_trajectory[:,2],'.-')\n",
    "\n"
   ]
  },
  {
   "cell_type": "code",
   "execution_count": null,
   "id": "87cba898",
   "metadata": {},
   "outputs": [],
   "source": [
    "f, (ax1, ax2, ax3) = plt.subplots(1, 3, sharey=True, figsize=(10,3))\n",
    "ax1.plot(arclength,invariants[:,0])\n",
    "ax1.set_title('Velocity [m/m]')\n",
    "ax2.plot(arclength,invariants[:,1])\n",
    "ax2.set_title('Curvature [rad/m]')\n",
    "ax3.plot(arclength,invariants[:,2])\n",
    "ax3.set_title('Torsion [rad/m]')\n",
    "\n"
   ]
  },
  {
   "cell_type": "markdown",
   "id": "f5cb3da3",
   "metadata": {},
   "source": [
    "## Simulation of online measurements\n",
    "\n",
    "this is to test the online calculation separate from the real application"
   ]
  },
  {
   "cell_type": "code",
   "execution_count": null,
   "id": "ba977be9",
   "metadata": {},
   "outputs": [],
   "source": [
    "# Spline of model\n",
    "knots = np.concatenate(([arclength[0]],[arclength[0]],arclength,[arclength[-1]],[arclength[-1]]))\n",
    "degree = 3\n",
    "spline_model_trajectory = ip.BSpline(knots,trajectory,degree)\n",
    "\n",
    "def simulate_noisy_measurements(model_trajectory, current_progress, stepsize, online_window_len):\n",
    "    \n",
    "    noise_std = 0.005*0\n",
    "    \n",
    "    progress_values = np.linspace(current_progress, current_progress-online_window_len*stepsize, online_window_len )\n",
    "    #print(progress_values)\n",
    "    noisy_measurements = np.array([model_trajectory(i) for i in progress_values]) \n",
    "\n",
    "    return noisy_measurements + np.random.randn(online_window_len,3)*noise_std\n"
   ]
  },
  {
   "cell_type": "markdown",
   "id": "4498afb4",
   "metadata": {},
   "source": [
    "Testing simulated measurements"
   ]
  },
  {
   "cell_type": "code",
   "execution_count": null,
   "id": "43dca1f3",
   "metadata": {},
   "outputs": [],
   "source": [
    "test_measurements = simulate_noisy_measurements(spline_model_trajectory,0.8,0.005,20)\n",
    "\n",
    "fig = plt.figure(figsize=(8,8))\n",
    "ax = fig.add_subplot(111, projection='3d')\n",
    "ax = plt.axes(projection='3d')\n",
    "ax.plot(trajectory[:,0],trajectory[:,1],trajectory[:,2],'.-')\n",
    "ax.plot(test_measurements[:,0],test_measurements[:,1],test_measurements[:,2],'k.-')\n"
   ]
  },
  {
   "cell_type": "markdown",
   "id": "484bac3f",
   "metadata": {},
   "source": [
    "## Online estimation of curvature and torsion\n"
   ]
  },
  {
   "cell_type": "code",
   "execution_count": null,
   "id": "e2b94c58",
   "metadata": {},
   "outputs": [],
   "source": [
    "from IPython.display import clear_output\n",
    "import time\n"
   ]
  },
  {
   "cell_type": "code",
   "execution_count": null,
   "id": "5b677b07",
   "metadata": {
    "scrolled": false
   },
   "outputs": [],
   "source": [
    "window_len = 20\n",
    "stepsize = 0.005\n",
    "window_increment = 10\n",
    "\n",
    "# specify optimization problem symbolically\n",
    "FS_online_calculation_problem = FrenetSerret_calc(window_len=window_len, bool_unsigned_invariants = False, w_pos = 1, w_deriv = (10**-3)*np.array([1.0, 1.0, 1.0]), w_abs = (10**-8)*np.array([1.0, 1.0]))\n",
    "\n",
    "# Visualization\n",
    "current_progress = 0.15\n",
    "while current_progress <= arclength[-1]:\n",
    "\n",
    "    #print(f\"current progress = {current_progress}\")\n",
    "    measurements = simulate_noisy_measurements(spline_model_trajectory,current_progress,stepsize,window_len)\n",
    "\n",
    "    # Calculate invariants in window\n",
    "    invariants_online, trajectory_online, mf = FS_online_calculation_problem.calculate_invariants_online(measurements,stepsize,window_increment)\n",
    "\n",
    "    # Visualization\n",
    "    xvector = np.linspace(current_progress-window_len*stepsize, current_progress , window_len)\n",
    "    \n",
    "    clear_output(wait=True)\n",
    "    \n",
    "#    fig = plt.figure(figsize=(8,8))\n",
    "#ax = fig.add_subplot(111, projection='3d')\n",
    "\n",
    "    \n",
    "    fig = plt.figure(figsize=(14,8))\n",
    "#    fig = plt.subplot(2,3,1)\n",
    "    ax = fig.add_subplot(231, projection='3d')\n",
    "    ax.plot(trajectory[:,0],trajectory[:,1],trajectory[:,2],'.-')\n",
    "    ax.plot(measurements[:,0],measurements[:,1],measurements[:,2],'k.')\n",
    "    ax.plot(trajectory_online[:,0],trajectory_online[:,1],trajectory_online[:,2])\n",
    "    \n",
    "    plt.subplot(2,3,4)\n",
    "    plt.plot(xvector,np.abs(invariants_online[:,0]))\n",
    "    plt.plot(arclength,invariants[:,0])\n",
    "    plt.plot(0,0)\n",
    "    plt.title('Velocity [m/m]')\n",
    "    \n",
    "    plt.subplot(2,3,5)\n",
    "    plt.plot(xvector,np.abs(invariants_online[:,1]))\n",
    "    plt.plot(arclength,invariants[:,1])\n",
    "    plt.plot(0,0)\n",
    "    plt.title('Curvature [rad/m]')\n",
    "    \n",
    "    plt.subplot(2,3,6)\n",
    "    plt.plot(xvector,np.abs(invariants_online[:,2]))\n",
    "    plt.plot(arclength,invariants[:,2])\n",
    "    plt.plot(0,0)\n",
    "    plt.title('Torsion [rad/m]')\n",
    "\n",
    "    plt.show()\n",
    "    \n",
    "    \n",
    "    current_progress = round(current_progress + window_increment*stepsize,3) # start index next window"
   ]
  },
  {
   "cell_type": "code",
   "execution_count": null,
   "id": "bbccebf1",
   "metadata": {},
   "outputs": [],
   "source": []
  },
  {
   "cell_type": "code",
   "execution_count": null,
   "id": "56b029be",
   "metadata": {},
   "outputs": [],
   "source": []
  }
 ],
 "metadata": {
  "@webio": {
   "lastCommId": null,
   "lastKernelId": null
  },
  "kernelspec": {
   "display_name": "Python 3 (ipykernel)",
   "language": "python",
   "name": "python3"
  },
  "language_info": {
   "codemirror_mode": {
    "name": "ipython",
    "version": 3
   },
   "file_extension": ".py",
   "mimetype": "text/x-python",
   "name": "python",
   "nbconvert_exporter": "python",
   "pygments_lexer": "ipython3",
   "version": "3.9.7"
  }
 },
 "nbformat": 4,
 "nbformat_minor": 5
}
